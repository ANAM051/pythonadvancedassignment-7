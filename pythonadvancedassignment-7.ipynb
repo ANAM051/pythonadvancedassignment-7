{
 "cells": [
  {
   "cell_type": "markdown",
   "id": "7a14bf39",
   "metadata": {},
   "source": [
    "Q1. What is the purpose of the try statement?\n",
    "\n",
    "Q2. What are the two most popular try statement variations?\n",
    "\n",
    "Q3. What is the purpose of the raise statement?\n",
    "\n",
    "Q4. What does the assert statement do, and what other statement is it like?\n",
    "\n",
    "Q5. What is the purpose of the with/as argument, and what other statement is it like?"
   ]
  },
  {
   "cell_type": "markdown",
   "id": "d286ab2a",
   "metadata": {},
   "source": [
    "1. try statement is used for error handling"
   ]
  },
  {
   "cell_type": "markdown",
   "id": "43d11ce9",
   "metadata": {},
   "source": [
    "2.try-except and try-except-else"
   ]
  },
  {
   "cell_type": "markdown",
   "id": "dc1d4f51",
   "metadata": {},
   "source": [
    "3.raise is used to handle error in our way."
   ]
  },
  {
   "cell_type": "markdown",
   "id": "b1b6d769",
   "metadata": {},
   "source": [
    "4.assert is used to check whether the condition is true of false.If condition is true the program runs and if condition is false the program stops execution and raises assertion error. assert is like if statement ,if also checks for the statemnets, if it is true or false but in if ,if statement is false it does not stops execution. "
   ]
  },
  {
   "cell_type": "markdown",
   "id": "ae609c83",
   "metadata": {},
   "source": [
    "5.with/as statement is used to simplify resource management.It is similar to try/finally method."
   ]
  }
 ],
 "metadata": {
  "kernelspec": {
   "display_name": "Python 3 (ipykernel)",
   "language": "python",
   "name": "python3"
  },
  "language_info": {
   "codemirror_mode": {
    "name": "ipython",
    "version": 3
   },
   "file_extension": ".py",
   "mimetype": "text/x-python",
   "name": "python",
   "nbconvert_exporter": "python",
   "pygments_lexer": "ipython3",
   "version": "3.9.12"
  }
 },
 "nbformat": 4,
 "nbformat_minor": 5
}
